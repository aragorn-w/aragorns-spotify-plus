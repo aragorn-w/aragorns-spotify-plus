{
 "cells": [
  {
   "cell_type": "code",
   "execution_count": 1,
   "metadata": {},
   "outputs": [],
   "source": [
    "import os\n",
    "import json\n",
    "\n",
    "import spotipy\n",
    "from spotipy.oauth2 import SpotifyClientCredentials"
   ]
  },
  {
   "cell_type": "code",
   "execution_count": null,
   "metadata": {},
   "outputs": [],
   "source": [
    "client_credentials_manager = SpotifyClientCredentials(client_id=os.getenv('SPOTIPY_CLIENT_ID_CONTAINED_PLAYLISTS_FETCHER'), client_secret=os.getenv('SPOTIPY_CLIENT_SECRET_CONTAINED_PLAYLISTS_FETCHER'))\n",
    "sp = spotipy.Spotify(client_credentials_manager=client_credentials_manager)\n",
    "\n",
    "library_account = os.getenv('SPOTIFY_PLUS_SECONDARY_ACCOUNT_USER_ID')"
   ]
  },
  {
   "cell_type": "code",
   "execution_count": null,
   "metadata": {},
   "outputs": [],
   "source": [
    "playlist_ids = []\n",
    "\n",
    "immediate_to_sort_id = ''\n",
    "library_to_sort_id = ''\n",
    "\n",
    "genre_ids = []\n",
    "archived_mixtape_ids = []\n",
    "archived_record_ids = []\n",
    "\n",
    "current_page = sp.user_playlists(library_account)\n",
    "while current_page:\n",
    "    for playlist in current_page['items']:\n",
    "        id = playlist['id']\n",
    "        playlist_ids.append(id)\n",
    "\n",
    "        if playlist['name'].startswith('[G]'):\n",
    "            genre_ids.append(id)\n",
    "        elif playlist['name'].startswith('[AM]'):\n",
    "            archived_mixtape_ids.append(id)\n",
    "        elif playlist['name'].startswith('[AR]'):\n",
    "            archived_record_ids.append(id)\n",
    "        elif playlist['name'].startswith('[1]'):\n",
    "            immediate_to_sort_id = id\n",
    "        elif playlist['name'].startswith('[2]'):\n",
    "            library_to_sort_id = id\n",
    "\n",
    "    if current_page['next']:\n",
    "        current_page = sp.next(current_page)\n",
    "    else:\n",
    "        current_page = None"
   ]
  },
  {
   "cell_type": "code",
   "execution_count": null,
   "metadata": {},
   "outputs": [],
   "source": [
    "def get_simplified_tracks(playlist_id):\n",
    "    simplified_tracks = []\n",
    "\n",
    "    current_page = sp.playlist_items(f'spotify:playlist:{playlist_id}', fields='items.track.id,items.track.is_local,items.track.name,next')\n",
    "    while current_page:\n",
    "        for item in current_page['items']:\n",
    "            track = item['track']\n",
    "            new_track = {}\n",
    "\n",
    "            new_track['is_local'] = track['is_local']\n",
    "\n",
    "            if not track['is_local']:\n",
    "                new_track['id'] = track['id']\n",
    "            else:\n",
    "                new_track['id'] = None\n",
    "            \n",
    "            new_track['name'] = track['name']\n",
    "            \n",
    "            simplified_tracks.append(new_track)\n",
    "\n",
    "        if current_page['next']:\n",
    "            current_page = sp.next(current_page)\n",
    "        else:\n",
    "            current_page = None\n",
    "    \n",
    "    return simplified_tracks"
   ]
  },
  {
   "cell_type": "code",
   "execution_count": 2,
   "metadata": {},
   "outputs": [],
   "source": [
    "immediate_to_sort_tracks = []\n",
    "library_to_sort_tracks = []\n",
    "\n",
    "genre_id_to_tracks = {}\n",
    "archived_mixtape_id_to_tracks = {}\n",
    "archived_record_id_to_tracks = {}"
   ]
  },
  {
   "cell_type": "code",
   "execution_count": 9,
   "metadata": {},
   "outputs": [],
   "source": [
    "class NoneDict(dict):\n",
    "    def __missing__(self, key):\n",
    "        return None\n",
    "\n",
    "def track_json_decoder(track_dict):\n",
    "    return NoneDict(track_dict)\n",
    "\n",
    "def playist_json_decoder(playlist_to_track_dict):\n",
    "    # Why does this work???\n",
    "    return NoneDict(playlist_to_track_dict)\n",
    "    \n",
    "    # none_dict_filtered = {}\n",
    "    # for genre_id in playlist_to_track_dict:\n",
    "    #     none_dict_filtered[genre_id] = NoneDict(playlist_to_track_dict[genre_id])\n",
    "    # return none_dict_filtered"
   ]
  },
  {
   "cell_type": "code",
   "execution_count": 10,
   "metadata": {},
   "outputs": [],
   "source": [
    "with open(\"saved_libraries/immediate_to_sort_tracks.json\", \"r\", encoding=\"utf-8\") as file:\n",
    "    immediate_to_sort_tracks = json.load(file, object_hook=track_json_decoder)\n",
    "with open(\"saved_libraries/library_to_sort_tracks.json\", \"r\", encoding=\"utf-8\") as file:\n",
    "    library_to_sort_tracks = json.load(file, object_hook=track_json_decoder)\n",
    "\n",
    "with open(\"saved_libraries/genre_id_to_tracks.json\", \"r\", encoding=\"utf-8\") as file:\n",
    "    genre_id_to_tracks = json.load(file, object_hook=playist_json_decoder)"
   ]
  },
  {
   "cell_type": "code",
   "execution_count": null,
   "metadata": {},
   "outputs": [],
   "source": []
  }
 ],
 "metadata": {
  "kernelspec": {
   "display_name": "Python 3.10.2 ('aragorns-spotify-plus')",
   "language": "python",
   "name": "python3"
  },
  "language_info": {
   "codemirror_mode": {
    "name": "ipython",
    "version": 3
   },
   "file_extension": ".py",
   "mimetype": "text/x-python",
   "name": "python",
   "nbconvert_exporter": "python",
   "pygments_lexer": "ipython3",
   "version": "3.10.2"
  },
  "orig_nbformat": 4,
  "vscode": {
   "interpreter": {
    "hash": "4222a712a5ee7d79c4a9ec5de05636acc5d649326219bf0ca81b1a346c67cd4b"
   }
  }
 },
 "nbformat": 4,
 "nbformat_minor": 2
}
