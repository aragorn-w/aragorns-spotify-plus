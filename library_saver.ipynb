{
 "cells": [
  {
   "cell_type": "code",
   "execution_count": 7,
   "metadata": {},
   "outputs": [],
   "source": [
    "# Playlist fetcher for checking what playlists a song-link I want to add is within\n",
    "\n",
    "import os\n",
    "from pprint import pprint\n",
    "import json\n",
    "\n",
    "import spotipy\n",
    "from spotipy.oauth2 import SpotifyClientCredentials"
   ]
  },
  {
   "cell_type": "code",
   "execution_count": 8,
   "metadata": {},
   "outputs": [],
   "source": [
    "client_credentials_manager = SpotifyClientCredentials(client_id=os.getenv('SPOTIPY_CLIENT_ID_CONTAINED_PLAYLISTS_FETCHER'), client_secret=os.getenv('SPOTIPY_CLIENT_SECRET_CONTAINED_PLAYLISTS_FETCHER'))\n",
    "sp = spotipy.Spotify(client_credentials_manager=client_credentials_manager)\n",
    "\n",
    "library_account = os.getenv('SPOTIFY_PLUS_SECONDARY_ACCOUNT_USER_ID')"
   ]
  },
  {
   "cell_type": "code",
   "execution_count": 9,
   "metadata": {},
   "outputs": [],
   "source": [
    "playlist_ids = []\n",
    "\n",
    "immediate_to_sort_id = ''\n",
    "library_to_sort_id = ''\n",
    "\n",
    "genre_ids = []\n",
    "archived_mixtape_ids = []\n",
    "archived_record_ids = []\n",
    "\n",
    "current_page = sp.user_playlists(library_account)\n",
    "while current_page:\n",
    "    for playlist in current_page['items']:\n",
    "        id = playlist['id']\n",
    "        playlist_ids.append(id)\n",
    "\n",
    "        if playlist['name'].startswith('[G]'):\n",
    "            genre_ids.append(id)\n",
    "        elif playlist['name'].startswith('[AM]'):\n",
    "            archived_mixtape_ids.append(id)\n",
    "        elif playlist['name'].startswith('[AR]'):\n",
    "            archived_record_ids.append(id)\n",
    "        elif playlist['name'].startswith('[1]'):\n",
    "            immediate_to_sort_id = id\n",
    "        elif playlist['name'].startswith('[2]'):\n",
    "            library_to_sort_id = id\n",
    "\n",
    "    if current_page['next']:\n",
    "        current_page = sp.next(current_page)\n",
    "    else:\n",
    "        current_page = None"
   ]
  },
  {
   "cell_type": "code",
   "execution_count": 10,
   "metadata": {},
   "outputs": [],
   "source": [
    "def get_simplified_tracks(playlist_id):\n",
    "    simplified_tracks = []\n",
    "\n",
    "    current_page = sp.playlist_items(f'spotify:playlist:{playlist_id}', fields='items.track.id,items.track.is_local,items.track.name,next')\n",
    "    while current_page:\n",
    "        for item in current_page['items']:\n",
    "            track = item['track']\n",
    "            new_track = {}\n",
    "\n",
    "            new_track['is_local'] = track['is_local']\n",
    "\n",
    "            if not track['is_local']:\n",
    "                new_track['id'] = track['id']\n",
    "            else:\n",
    "                new_track['id'] = None\n",
    "            \n",
    "            new_track['name'] = track['name']\n",
    "            \n",
    "            simplified_tracks.append(new_track)\n",
    "\n",
    "        if current_page['next']:\n",
    "            current_page = sp.next(current_page)\n",
    "        else:\n",
    "            current_page = None\n",
    "    \n",
    "    return simplified_tracks"
   ]
  },
  {
   "cell_type": "code",
   "execution_count": 11,
   "metadata": {},
   "outputs": [],
   "source": [
    "immediate_to_sort_tracks = get_simplified_tracks(immediate_to_sort_id)\n",
    "library_to_sort_tracks = get_simplified_tracks(library_to_sort_id)\n",
    "\n",
    "genre_id_to_tracks = {genre_id: get_simplified_tracks(genre_id) for genre_id in genre_ids}\n",
    "archived_mixtape_id_to_tracks = {am_id: get_simplified_tracks(am_id) for am_id in archived_mixtape_ids}\n",
    "archived_record_id_to_tracks = {ar_id: get_simplified_tracks(ar_id) for ar_id in archived_record_ids}"
   ]
  },
  {
   "cell_type": "code",
   "execution_count": 15,
   "metadata": {},
   "outputs": [],
   "source": [
    "with open(\"saved_libraries/immediate_to_sort_tracks.json\", \"w\", encoding=\"utf-8\") as outFile:\n",
    "    json.dump(immediate_to_sort_tracks, outFile, ensure_ascii=False, indent=4)\n",
    "with open(\"saved_libraries/library_to_sort_tracks.json\", \"w\", encoding=\"utf-8\") as outFile:\n",
    "    json.dump(library_to_sort_tracks, outFile, ensure_ascii=False, indent=4)\n",
    "\n",
    "with open(\"saved_libraries/genre_id_to_tracks.json\", \"w\", encoding=\"utf-8\") as outFile:\n",
    "    json.dump(genre_id_to_tracks, outFile, ensure_ascii=False, indent=4)\n",
    "with open(\"saved_libraries/archived_mixtape_id_to_tracks.json\", \"w\", encoding=\"utf-8\") as outFile:\n",
    "    json.dump(archived_mixtape_id_to_tracks, outFile, ensure_ascii=False, indent=4)\n",
    "with open(\"saved_libraries/archived_record_id_to_tracks.json\", \"w\", encoding=\"utf-8\") as outFile:\n",
    "    json.dump(archived_record_id_to_tracks, outFile, ensure_ascii=False, indent=4)"
   ]
  }
 ],
 "metadata": {
  "kernelspec": {
   "display_name": "Python 3.10.2 ('aragorns-spotify-plus')",
   "language": "python",
   "name": "python3"
  },
  "language_info": {
   "codemirror_mode": {
    "name": "ipython",
    "version": 3
   },
   "file_extension": ".py",
   "mimetype": "text/x-python",
   "name": "python",
   "nbconvert_exporter": "python",
   "pygments_lexer": "ipython3",
   "version": "3.10.2"
  },
  "orig_nbformat": 4,
  "vscode": {
   "interpreter": {
    "hash": "4222a712a5ee7d79c4a9ec5de05636acc5d649326219bf0ca81b1a346c67cd4b"
   }
  }
 },
 "nbformat": 4,
 "nbformat_minor": 2
}
